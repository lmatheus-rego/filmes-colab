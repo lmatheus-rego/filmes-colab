{
 "cells": [
  {
   "cell_type": "code",
   "execution_count": null,
   "id": "515a364f",
   "metadata": {},
   "outputs": [],
   "source": [
    "import PySimpleGUI as sg\n",
    "sg.theme('Reddit')\n",
    "layout=[\n",
    "    sg.textr('')\n",
    "    \n",
    "]"
   ]
  },
  {
   "cell_type": "code",
   "execution_count": 14,
   "id": "e81da021",
   "metadata": {
    "scrolled": false
   },
   "outputs": [
    {
     "name": "stdout",
     "output_type": "stream",
     "text": [
      "['numerodaPO1      modelo1     panel1      nÃºmerodesÃ©riex      alternativa1\\n', 'numerodapo2      modelo1     panel1      numerodeseriey      alternativa1\\n', 'numerodapo3      modelo1     panel2      numerodeseriez      alternativa1\\n', 'numerodapo4      modelo1     panel2      numerodeseriew      alternativa2\\n', 'numerodapo5      modelo2     panel2      numerodeseriea      alternativa3\\n', 'numerodapo6      modelo3     panel1      numerodeserieb      alternativa2\\n', '\\n']\n"
     ]
    }
   ],
   "source": [
    "with open(r\"\\\\DESKTOP-JFRF6FO\\Users\\LMatheus\\Documents\\REDE MACACA\\kkkkkkkkkkkkkkkkkkk.txt\",\"r\") as arquivo:\n",
    "    linhas = arquivo.readlines()\n",
    "print(linhas)\n",
    "\n"
   ]
  }
 ],
 "metadata": {
  "kernelspec": {
   "display_name": "Python 3 (ipykernel)",
   "language": "python",
   "name": "python3"
  },
  "language_info": {
   "codemirror_mode": {
    "name": "ipython",
    "version": 3
   },
   "file_extension": ".py",
   "mimetype": "text/x-python",
   "name": "python",
   "nbconvert_exporter": "python",
   "pygments_lexer": "ipython3",
   "version": "3.9.7"
  }
 },
 "nbformat": 4,
 "nbformat_minor": 5
}
